{
  "nbformat": 4,
  "nbformat_minor": 0,
  "metadata": {
    "colab": {
      "name": "FinalMarcoSearch1.ipynb",
      "version": "0.3.2",
      "provenance": [],
      "collapsed_sections": []
    },
    "kernelspec": {
      "name": "python3",
      "display_name": "Python 3"
    }
  },
  "cells": [
    {
      "cell_type": "code",
      "metadata": {
        "id": "tqMA6KLxBrWa",
        "colab_type": "code",
        "colab": {
          "base_uri": "https://localhost:8080/",
          "height": 444
        },
        "outputId": "a08d293a-c393-4d68-be61-4e967a74d3b9"
      },
      "source": [
        "! pip install googletrans\n",
        "! pip install google\n",
        "\n",
        "\n",
        "from googletrans import Translator\n",
        "from googlesearch import search\n",
        "import requests\n",
        "from bs4 import BeautifulSoup\n",
        "from typing import List\n",
        "import re\n",
        "import json\n",
        "import subprocess\n",
        "import numpy as np\n",
        "import string\n",
        "\n",
        "class marcoSearch:\n",
        "    def __init__(self, languages: List[str]) -> None:\n",
        "        self.translator = Translator()\n",
        "        self.languages = languages\n",
        "        if 'en' not in self.languages:\n",
        "            self.languages.append('en')\n",
        "\n",
        "    def translate_string(self, list_of_strings: List[str] , destination_language: str) -> List[str]:\n",
        "        if type(list_of_strings) != list:\n",
        "            list_of_strings = [list_of_strings]\n",
        "        translations = self.translator.translate(list_of_strings, dest = destination_language)\n",
        "        translated_strings = [s.text for s in translations]\n",
        "        #translated_strings = translations.text\n",
        "        return(translated_strings)\n",
        "\n",
        "    def search_single_query(self, query: str) -> dict:\n",
        "        url_dict = {}\n",
        "        for lang in self.languages:\n",
        "            url_dict[lang] = []\n",
        "            curr_query = self.translate_string(query, destination_language = lang)\n",
        "            url_dict[lang].extend(search(query= curr_query[0], tld='com', lang=lang, num= 10, stop= 10))\n",
        "        return(url_dict)\n",
        "\n",
        "    def parse_page(self, url: str, translate: bool = True) -> List[str]:\n",
        "        page = requests.get(url = url)\n",
        "        soup = BeautifulSoup(page.text, 'html.parser')\n",
        "        texts = [v.get_text() for v in soup.find_all('p')]\n",
        "        texts = list(map(self.clean_text, texts))\n",
        "        texts = list(filter(lambda x: x != '', texts))\n",
        "        if translate:\n",
        "            translated_texts = self.translate_string(texts, destination_language = 'en')\n",
        "            return(translated_texts)\n",
        "        else:\n",
        "            return(texts)\n",
        "\n",
        "    def search_query(self, query: str) -> tuple:\n",
        "        print('Retrieving URLs')\n",
        "        url_dict = self.search_single_query(query)\n",
        "        docs = {}\n",
        "        docs['en'] = [self.parse_page(url = u, translate = False) for u in url_dict['en']]\n",
        "        #print(docs)\n",
        "        print('Translating pages')\n",
        "        for lang in url_dict:\n",
        "            if lang != 'en':\n",
        "                docs[lang] = []\n",
        "                docs[lang].extend([self.parse_page(url = u) for u in url_dict[lang]])\n",
        "        return((docs, url_dict))\n",
        "\n",
        "    @staticmethod\n",
        "    def clean_text(html_text: str) -> str:\n",
        "        clean_text = re.sub('<.*>', '', html_text)\n",
        "        exclusion_set = set(string.punctuation) - {'.', '?', ',', '!'}\n",
        "        clean_text = [v for v in list(clean_text) if v not in exclusion_set]\n",
        "        clean_text = ''.join(clean_text)\n",
        "        return(clean_text)\n",
        "\n",
        "    @staticmethod\n",
        "    def get_marco_vectors(strings_list: List[str]) -> List[dict]:\n",
        "        standard_query = 'curl https://api.msturing.org/gen/encode -H \"Ocp-Apim-Subscription-Key: d52c40fc4c2c4fcfb768ce18a7d1bafc\" --data \\'{\"queries\": [\"JHU Hackathon starts now!\", \"Microsoft Bing Turing team is here to help you\"]}\\''\n",
        "        strings = '\" , \"'.join(strings_list)\n",
        "        strings = '[\"' + strings[0:1000] + '\"]'\n",
        "        query = re.sub('\\[.*\\]', strings, standard_query)\n",
        "        #query = query + strings + '}\\ '.rstrip() + '\\''\n",
        "        #print(query)\n",
        "        result = subprocess.check_output(query, shell=True)\n",
        "        result_json = json.loads(result)\n",
        "        return(result_json)\n",
        "\n",
        "    def get_sorted_tuples(self, query: str) -> List[tuple]:\n",
        "        docs, url_dict = self.search_query(query)\n",
        "        query_vector = np.array(self.get_marco_vectors([query])[0]['vector'])\n",
        "        output_list = []\n",
        "        for lang in self.languages:\n",
        "            count = 0\n",
        "            for website in docs[lang]:\n",
        "                curr_string = ' '.join(website)\n",
        "                try:\n",
        "                    vector = np.array(self.get_marco_vectors([curr_string])[0]['vector'])\n",
        "                    score = np.dot(query_vector, vector)\n",
        "                    score /= np.linalg.norm(vector)*np.linalg.norm(query_vector)\n",
        "                except:\n",
        "                    score = 0\n",
        "                #print(score)\n",
        "                cur_url = url_dict[lang]\n",
        "                curr_tuple = (url_dict[lang][count], score, curr_string)\n",
        "                output_list.append(curr_tuple)\n",
        "                count += 1\n",
        "        output_list.sort(key = lambda x: x[1], reverse = True)\n",
        "        return(output_list)"
      ],
      "execution_count": 1,
      "outputs": [
        {
          "output_type": "stream",
          "text": [
            "Collecting googletrans\n",
            "  Downloading https://files.pythonhosted.org/packages/fd/f0/a22d41d3846d1f46a4f20086141e0428ccc9c6d644aacbfd30990cf46886/googletrans-2.4.0.tar.gz\n",
            "Requirement already satisfied: requests in /usr/local/lib/python3.6/dist-packages (from googletrans) (2.21.0)\n",
            "Requirement already satisfied: certifi>=2017.4.17 in /usr/local/lib/python3.6/dist-packages (from requests->googletrans) (2019.6.16)\n",
            "Requirement already satisfied: chardet<3.1.0,>=3.0.2 in /usr/local/lib/python3.6/dist-packages (from requests->googletrans) (3.0.4)\n",
            "Requirement already satisfied: idna<2.9,>=2.5 in /usr/local/lib/python3.6/dist-packages (from requests->googletrans) (2.8)\n",
            "Requirement already satisfied: urllib3<1.25,>=1.21.1 in /usr/local/lib/python3.6/dist-packages (from requests->googletrans) (1.24.3)\n",
            "Building wheels for collected packages: googletrans\n",
            "  Building wheel for googletrans (setup.py) ... \u001b[?25l\u001b[?25hdone\n",
            "  Created wheel for googletrans: filename=googletrans-2.4.0-cp36-none-any.whl size=15776 sha256=183c765c95c3c913c9e347710fc6f3c394a421f65e72c20274f8d4cef02a3e19\n",
            "  Stored in directory: /root/.cache/pip/wheels/50/d6/e7/a8efd5f2427d5eb258070048718fa56ee5ac57fd6f53505f95\n",
            "Successfully built googletrans\n",
            "Installing collected packages: googletrans\n",
            "Successfully installed googletrans-2.4.0\n",
            "Requirement already satisfied: google in /usr/local/lib/python3.6/dist-packages (2.0.2)\n",
            "Requirement already satisfied: beautifulsoup4 in /usr/local/lib/python3.6/dist-packages (from google) (4.6.3)\n"
          ],
          "name": "stdout"
        }
      ]
    },
    {
      "cell_type": "code",
      "metadata": {
        "id": "4A9Dr4gIB0yE",
        "colab_type": "code",
        "colab": {
          "base_uri": "https://localhost:8080/",
          "height": 51
        },
        "outputId": "f8673f50-a9f7-41dd-aead-9acdd2eb7954"
      },
      "source": [
        "languages = ['en', 'ru']\n",
        "ms = marcoSearch(languages= languages)\n",
        "\n",
        "out = ms.get_sorted_tuples('st petersburg mayor')"
      ],
      "execution_count": 2,
      "outputs": [
        {
          "output_type": "stream",
          "text": [
            "Retrieving URLs\n",
            "Translating pages\n"
          ],
          "name": "stdout"
        }
      ]
    },
    {
      "cell_type": "code",
      "metadata": {
        "id": "Sxkhe5cmB5Nn",
        "colab_type": "code",
        "colab": {
          "base_uri": "https://localhost:8080/",
          "height": 142
        },
        "outputId": "7e948175-2b82-4f38-8e8b-985f72470610"
      },
      "source": [
        "for tup in out[0:5]:\n",
        "  print('Similarity score: {}, Website : {}'.format(tup[1], tup[0]))"
      ],
      "execution_count": 3,
      "outputs": [
        {
          "output_type": "stream",
          "text": [
            "Similarity score: 0.6292185334262044, Website : https://ru.wikipedia.org/wiki/%D0%93%D1%83%D0%B1%D0%B5%D1%80%D0%BD%D0%B0%D1%82%D0%BE%D1%80_%D0%A1%D0%B0%D0%BD%D0%BA%D1%82-%D0%9F%D0%B5%D1%82%D0%B5%D1%80%D0%B1%D1%83%D1%80%D0%B3%D0%B0\n",
            "Similarity score: 0.6292185334262044, Website : https://ru.wikipedia.org/wiki/%D0%93%D1%83%D0%B1%D0%B5%D1%80%D0%BD%D0%B0%D1%82%D0%BE%D1%80_%D0%A1%D0%B0%D0%BD%D0%BA%D1%82-%D0%9F%D0%B5%D1%82%D0%B5%D1%80%D0%B1%D1%83%D1%80%D0%B3%D0%B0#%D0%9F%D0%BE%D0%BB%D0%BD%D0%BE%D0%BC%D0%BE%D1%87%D0%B8%D1%8F_%D0%93%D1%83%D0%B1%D0%B5%D1%80%D0%BD%D0%B0%D1%82%D0%BE%D1%80%D0%B0_%D0%A1%D0%B0%D0%BD%D0%BA%D1%82-%D0%9F%D0%B5%D1%82%D0%B5%D1%80%D0%B1%D1%83%D1%80%D0%B3%D0%B0\n",
            "Similarity score: 0.6292185334262044, Website : https://ru.wikipedia.org/wiki/%D0%93%D1%83%D0%B1%D0%B5%D1%80%D0%BD%D0%B0%D1%82%D0%BE%D1%80_%D0%A1%D0%B0%D0%BD%D0%BA%D1%82-%D0%9F%D0%B5%D1%82%D0%B5%D1%80%D0%B1%D1%83%D1%80%D0%B3%D0%B0#%D0%98%D1%81%D1%82%D0%BE%D1%80%D0%B8%D1%8F\n",
            "Similarity score: 0.6292185334262044, Website : https://ru.wikipedia.org/wiki/%D0%93%D1%83%D0%B1%D0%B5%D1%80%D0%BD%D0%B0%D1%82%D0%BE%D1%80_%D0%A1%D0%B0%D0%BD%D0%BA%D1%82-%D0%9F%D0%B5%D1%82%D0%B5%D1%80%D0%B1%D1%83%D1%80%D0%B3%D0%B0#%D0%A0%D1%83%D0%BA%D0%BE%D0%B2%D0%BE%D0%B4%D0%B8%D1%82%D0%B5%D0%BB%D0%B8_%D0%9F%D0%B5%D1%82%D1%80%D0%BE%D0%B3%D1%80%D0%B0%D0%B4%D0%B0_%E2%80%94_%D0%9B%D0%B5%D0%BD%D0%B8%D0%BD%D0%B3%D1%80%D0%B0%D0%B4%D0%B0\n",
            "Similarity score: 0.5116722135150757, Website : https://www.tampabay.com/florida-politics/buzz/2019/07/19/tampa-bay-rays-st-petersburg-mayor-rick-kriseman-to-meet-for-first-time-over-montreal-idea/\n"
          ],
          "name": "stdout"
        }
      ]
    },
    {
      "cell_type": "code",
      "metadata": {
        "id": "sNNqXytUDaj-",
        "colab_type": "code",
        "colab": {
          "base_uri": "https://localhost:8080/",
          "height": 74
        },
        "outputId": "a606e5c9-de23-4c76-867a-a8244c3417b8"
      },
      "source": [
        "#Content for top suggested link\n",
        "print(out[0][2])"
      ],
      "execution_count": 4,
      "outputs": [
        {
          "output_type": "stream",
          "text": [
            "The Governor of St. Petersburg is the highest official of St. Petersburg, heading the executive branch and the Government of St. Petersburg. The governor, elected by citizens of the Russian Federation residing in St. Petersburg and possessing, in accordance with federal law, active suffrage, on the basis of universal equal and direct suffrage by secret ballot for a term of 5 years. The powers of the governor include a representative office of the city, legislative initiative in the city parliament, the signing and promulgation of the laws of St. Petersburg, the formation of the Government and the provision of reports on its activities, determining the structure of the executive bodies of state power of the city of St. Petersburg and a number of other issues. The legal status of the governor is determined by the Charter of St. Petersburg, adopted on January 14, 1998. Since October 3, 2018, the duties of the Governor of St. Petersburg have been performed by Alexander Beglov1. According to the Charter of the city, the governor is elected for a term of 5 years and no more than two consecutive terms. According to Article 42 of the Statutes of St. Petersburg, the Governor of St. Petersburg This is a list of the mayors of the city of St. Petersburg - Petrograd - Leningrad - St. Petersburg for all its more than three centuries of history. At different times, the city was actually led by people who held various posts and positions: governors general, police generals, police officers, town governors, and were not included in the list below civil governors under the Provisional Government - the mayor in Soviet times - the chairmen of the Lensoviet Executive Committee and the secretaries of the Leningrad regional party committee. Since 1991, the city, which again became St. Petersburg, was led first by the mayor, then by the governors. From December 1931 to January 1950, the 1st Secretary of the Leningrad Regional Committee was also the 1st Secretary of the City Committee. Since 1990, the post of head of the regional party organization has lost importance in connection with the abandonment of the one-party system, and since then the head of the city council was considered the chairman of the city council, the source is not specified 3481 days. A. Sobchak, V. Yakovlev twice, V. Matvienko before reappointment were elected by the townspeople in the elections. G. Poltavchenko was appointed governor after the cancellation of elections.\n"
          ],
          "name": "stdout"
        }
      ]
    },
    {
      "cell_type": "code",
      "metadata": {
        "id": "ps1ZFQLLDgHR",
        "colab_type": "code",
        "colab": {}
      },
      "source": [
        ""
      ],
      "execution_count": 0,
      "outputs": []
    }
  ]
}